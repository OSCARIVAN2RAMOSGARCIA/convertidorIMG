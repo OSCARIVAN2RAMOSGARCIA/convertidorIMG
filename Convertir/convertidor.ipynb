{
 "cells": [
  {
   "cell_type": "code",
   "execution_count": 8,
   "id": "dd2f7f5d",
   "metadata": {},
   "outputs": [],
   "source": [
    "import os\n",
    "import sys\n",
    "# from pil import Image"
   ]
  },
  {
   "cell_type": "code",
   "execution_count": 11,
   "id": "c014630e",
   "metadata": {},
   "outputs": [
    {
     "data": {
      "text/plain": [
       "0"
      ]
     },
     "execution_count": 11,
     "metadata": {},
     "output_type": "execute_result"
    }
   ],
   "source": [
    "import subprocess\n",
    "# Ejecutar el comando pip para instalar Pillow\n",
    "subprocess.check_call([sys.executable, \"-m\", \"pip\", \"install\", \"Pillow\"])"
   ]
  },
  {
   "cell_type": "code",
   "execution_count": 12,
   "id": "1c1e6b01",
   "metadata": {},
   "outputs": [],
   "source": [
    "from PIL import Image"
   ]
  },
  {
   "cell_type": "code",
   "execution_count": null,
   "id": "3f45c4ac",
   "metadata": {},
   "outputs": [],
   "source": [
    "def convertir_a_webp_carpeta(carpeta):\n",
    "    # Verifica si la carpeta existe\n",
    "    if not os.path.exists(carpeta):\n",
    "        print(f\"La carpeta {carpeta} no existe.\")\n",
    "        return\n",
    "\n",
    "    # Recorre todos los archivos de la carpeta\n",
    "    for archivo in os.listdir(carpeta):\n",
    "        # Obtiene la ruta completa del archivo\n",
    "        ruta_completa = os.path.join(carpeta, archivo)\n",
    "\n",
    "        # Verifica si el archivo es una imagen PNG o JPG\n",
    "        if archivo.lower().endswith(('.png', '.jpg', '.jpeg','.jfif','.avif')):\n",
    "            try:\n",
    "                # Abre la imagen\n",
    "                with Image.open(ruta_completa) as imagen:\n",
    "                    # Crear el nombre de archivo de salida con extensión .webp\n",
    "                    nombre_salida = os.path.splitext(ruta_completa)[0] + '.webp'\n",
    "\n",
    "                    # Guardar la imagen en formato WebP\n",
    "                    imagen.save(nombre_salida, format='WEBP')\n",
    "\n",
    "                    print(f\"Imagen convertida: {nombre_salida}\")\n",
    "            except Exception as e:\n",
    "                print(f\"No se pudo convertir {archivo}: {e}\")\n",
    "        else:\n",
    "            print(f\"El archivo {archivo} no es una imagen válida para convertir.\")\n",
    "\n",
    "# Ejemplo de uso"
   ]
  },
  {
   "cell_type": "code",
   "execution_count": 24,
   "id": "ee56f788",
   "metadata": {},
   "outputs": [],
   "source": [
    "def borrar_no_webp(carpeta):\n",
    "    # Verifica si la carpeta existe\n",
    "    if not os.path.exists(carpeta):\n",
    "        print(f\"La carpeta {carpeta} no existe.\")\n",
    "        return\n",
    "\n",
    "    # Recorre todos los archivos de la carpeta\n",
    "    for archivo in os.listdir(carpeta):\n",
    "        # Obtiene la ruta completa del archivo\n",
    "        ruta_completa = os.path.join(carpeta, archivo)\n",
    "\n",
    "        # Verifica si el archivo no es un archivo .webp\n",
    "        if not archivo.lower().endswith('.webp'):\n",
    "            try:\n",
    "                # Elimina el archivo\n",
    "                os.remove(ruta_completa)\n",
    "                print(f\"Archivo borrado: {ruta_completa}\")\n",
    "            except Exception as e:\n",
    "                print(f\"No se pudo borrar {archivo}: {e}\")\n",
    "        else:\n",
    "            print(f\"El archivo {archivo} es un WebP, no se borró.\")"
   ]
  },
  {
   "cell_type": "code",
   "execution_count": 26,
   "id": "f350448c",
   "metadata": {},
   "outputs": [],
   "source": [
    "directorio = \"C:/Users/Guadalupe Garcia Val/Python/Convertir/peliculas\""
   ]
  },
  {
   "cell_type": "code",
   "execution_count": null,
   "id": "eee3957b",
   "metadata": {},
   "outputs": [],
   "source": [
    "convertir_a_webp_carpeta(directorio)"
   ]
  },
  {
   "cell_type": "code",
   "execution_count": null,
   "id": "bdf2359a",
   "metadata": {},
   "outputs": [
    {
     "name": "stdout",
     "output_type": "stream",
     "text": [
      "Archivo borrado: C:/Users/Guadalupe Garcia Val/Python/Convertir/peliculas\\Avatar.jpg\n",
      "El archivo Avatar.webp es un WebP, no se borró.\n",
      "Archivo borrado: C:/Users/Guadalupe Garcia Val/Python/Convertir/peliculas\\Forrest Gump.jpg\n",
      "El archivo Forrest Gump.webp es un WebP, no se borró.\n",
      "El archivo Guardians of the Galaxy.webp es un WebP, no se borró.\n",
      "Archivo borrado: C:/Users/Guadalupe Garcia Val/Python/Convertir/peliculas\\Inception.jpg\n",
      "El archivo Inception.webp es un WebP, no se borró.\n",
      "Archivo borrado: C:/Users/Guadalupe Garcia Val/Python/Convertir/peliculas\\Interstellar.jfif\n",
      "El archivo Interstellar.webp es un WebP, no se borró.\n",
      "Archivo borrado: C:/Users/Guadalupe Garcia Val/Python/Convertir/peliculas\\joker.jfif\n",
      "El archivo joker.webp es un WebP, no se borró.\n",
      "Archivo borrado: C:/Users/Guadalupe Garcia Val/Python/Convertir/peliculas\\Pulp Fiction.jfif\n",
      "El archivo Pulp Fiction.webp es un WebP, no se borró.\n",
      "El archivo The Avengers.webp es un WebP, no se borró.\n",
      "Archivo borrado: C:/Users/Guadalupe Garcia Val/Python/Convertir/peliculas\\The Godfather.jpg\n",
      "El archivo The Godfather.webp es un WebP, no se borró.\n",
      "Archivo borrado: C:/Users/Guadalupe Garcia Val/Python/Convertir/peliculas\\The Lion King.jfif\n",
      "El archivo The Lion King.webp es un WebP, no se borró.\n",
      "Archivo borrado: C:/Users/Guadalupe Garcia Val/Python/Convertir/peliculas\\The Pursuit of Happyness.avif\n",
      "Archivo borrado: C:/Users/Guadalupe Garcia Val/Python/Convertir/peliculas\\The Pursuit of Happyness.jpg\n",
      "El archivo The Pursuit of Happyness.webp es un WebP, no se borró.\n",
      "Archivo borrado: C:/Users/Guadalupe Garcia Val/Python/Convertir/peliculas\\The Shawshank Redemption.jfif\n",
      "El archivo The Shawshank Redemption.webp es un WebP, no se borró.\n",
      "Archivo borrado: C:/Users/Guadalupe Garcia Val/Python/Convertir/peliculas\\theDarkNigth.jfif\n",
      "El archivo theDarkNigth.webp es un WebP, no se borró.\n",
      "El archivo the_matrix_resurrections.webp es un WebP, no se borró.\n",
      "Archivo borrado: C:/Users/Guadalupe Garcia Val/Python/Convertir/peliculas\\titanic.jfif\n",
      "El archivo titanic.webp es un WebP, no se borró.\n"
     ]
    }
   ],
   "source": [
    "borrar_no_webp(directorio)"
   ]
  }
 ],
 "metadata": {
  "kernelspec": {
   "display_name": ".venv",
   "language": "python",
   "name": "python3"
  },
  "language_info": {
   "codemirror_mode": {
    "name": "ipython",
    "version": 3
   },
   "file_extension": ".py",
   "mimetype": "text/x-python",
   "name": "python",
   "nbconvert_exporter": "python",
   "pygments_lexer": "ipython3",
   "version": "3.12.9"
  }
 },
 "nbformat": 4,
 "nbformat_minor": 5
}
